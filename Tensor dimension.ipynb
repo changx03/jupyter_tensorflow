{
 "cells": [
  {
   "cell_type": "code",
   "execution_count": 2,
   "metadata": {},
   "outputs": [],
   "source": [
    "import numpy as np\n",
    "import tensorflow as tf"
   ]
  },
  {
   "cell_type": "markdown",
   "metadata": {},
   "source": [
    "## Rank 0\n",
    "Scalar"
   ]
  },
  {
   "cell_type": "code",
   "execution_count": 20,
   "metadata": {},
   "outputs": [
    {
     "data": {
      "text/plain": [
       "<tf.Variable 'Variable:0' shape=() dtype=complex128, numpy=(12.3-4.85j)>"
      ]
     },
     "execution_count": 20,
     "metadata": {},
     "output_type": "execute_result"
    }
   ],
   "source": [
    "mammal = tf.Variable('Cat', tf.string)\n",
    "integer = tf.Variable(451, tf.int16)\n",
    "pi = tf.Variable(3.1415926, tf.float64)\n",
    "its_complicated = tf.Variable(12.3-4.85j, tf.complex64)\n",
    "its_complicated"
   ]
  },
  {
   "cell_type": "markdown",
   "metadata": {},
   "source": [
    "## Rank 1\n",
    "vector"
   ]
  },
  {
   "cell_type": "code",
   "execution_count": 21,
   "metadata": {},
   "outputs": [
    {
     "data": {
      "text/plain": [
       "<tf.Variable 'Variable:0' shape=(5,) dtype=int32, numpy=array([ 2,  3,  5,  7, 11], dtype=int32)>"
      ]
     },
     "execution_count": 21,
     "metadata": {},
     "output_type": "execute_result"
    }
   ],
   "source": [
    "mystr = tf.Variable(['Hello'], tf.string)\n",
    "cool_nums = tf.Variable([3.14159, 2.71828], tf.float32)\n",
    "first_primes = tf.Variable([2,3,5,7,11], tf.int32)\n",
    "its_very_complicated = tf.Variable([12.3 - 4.85j, 7.5 - 6.23j], tf.complex64)\n",
    "first_primes"
   ]
  },
  {
   "cell_type": "markdown",
   "metadata": {},
   "source": [
    "## Higher Ranks\n",
    "a rank 2 `tf.Tensor` objects consists of at least 1 row and 1 column"
   ]
  },
  {
   "cell_type": "code",
   "execution_count": 36,
   "metadata": {},
   "outputs": [
    {
     "name": "stdout",
     "output_type": "stream",
     "text": [
      "<tf.Variable 'Variable:0' shape=(2, 1) dtype=int32, numpy=\n",
      "array([[ 7],\n",
      "       [11]], dtype=int32)>\n",
      "<tf.Variable 'Variable:0' shape=(2, 2) dtype=bool, numpy=\n",
      "array([[False,  True],\n",
      "       [ True, False]])>\n",
      "<tf.Variable 'Variable:0' shape=(2, 2) dtype=int32, numpy=\n",
      "array([[ 4,  9],\n",
      "       [16, 25]], dtype=int32)>\n",
      "(2, 2)\n",
      "tf.Tensor(2, shape=(), dtype=int32)\n",
      "()\n"
     ]
    }
   ],
   "source": [
    "mymat = tf.Variable([[7], [11]], tf.int16)\n",
    "print(mymat)\n",
    "xor = tf.Variable([[False, True],[True, False]], tf.bool)\n",
    "print(xor)\n",
    "squarish_squares = tf.Variable([ [4, 9], [16, 25] ], tf.int32)\n",
    "print(squarish_squares)\n",
    "print(squarish_squares.shape)\n",
    "\n",
    "rank_of_squares = tf.rank(squarish_squares)\n",
    "print(rank_of_squares)\n",
    "print(rank_of_squares.shape)"
   ]
  },
  {
   "cell_type": "code",
   "execution_count": 37,
   "metadata": {},
   "outputs": [
    {
     "name": "stdout",
     "output_type": "stream",
     "text": [
      "(10, 299, 299, 3)\n",
      "tf.Tensor(4, shape=(), dtype=int32)\n"
     ]
    }
   ],
   "source": [
    "# batch x height x width x color\n",
    "my_img = tf.zeros([10, 299, 299, 3])\n",
    "print(my_img.shape)\n",
    "print(tf.rank(my_img)) \n",
    "# tf.Tensor(4, shape=(), dtype=int32)\n",
    "# rank 4"
   ]
  },
  {
   "cell_type": "markdown",
   "metadata": {},
   "source": [
    "## Access Tensor"
   ]
  },
  {
   "cell_type": "code",
   "execution_count": 50,
   "metadata": {},
   "outputs": [
    {
     "name": "stdout",
     "output_type": "stream",
     "text": [
      "<tf.Variable 'Variable:0' shape=(5,) dtype=int32, numpy=array([1, 2, 3, 4, 5], dtype=int32)>\n",
      "tf.Tensor(3, shape=(), dtype=int32)\n",
      "tf.Tensor(True, shape=(), dtype=bool)\n"
     ]
    }
   ],
   "source": [
    "my_vector = tf.Variable(range(1,6), tf.int32)\n",
    "print(my_vector)\n",
    "# for a ran 1 tensor, passing a single index to access the value\n",
    "my_scalar = my_vector[2]\n",
    "print(my_scalar)\n",
    "print(my_scalar==3)"
   ]
  },
  {
   "cell_type": "code",
   "execution_count": 61,
   "metadata": {},
   "outputs": [
    {
     "name": "stdout",
     "output_type": "stream",
     "text": [
      "tf.Tensor(6, shape=(), dtype=int32)\n",
      "tf.Tensor([7 8 9], shape=(3,), dtype=int32)\n",
      "tf.Tensor([ 3  6  9 12], shape=(4,), dtype=int32)\n"
     ]
    }
   ],
   "source": [
    "my_mat = tf.Variable([[1,2,3],[4,5,6],[7,8,9],[10,11,12]], tf.int32)\n",
    "my_scalar = my_mat[1,2]\n",
    "print(my_scalar)\n",
    "\n",
    "my_row_vector = my_mat[2]\n",
    "print(my_row_vector)\n",
    "\n",
    "my_col_vector = my_mat[:,2]\n",
    "print(my_col_vector)"
   ]
  },
  {
   "cell_type": "markdown",
   "metadata": {},
   "source": [
    "## Shape"
   ]
  },
  {
   "cell_type": "code",
   "execution_count": 62,
   "metadata": {},
   "outputs": [
    {
     "data": {
      "text/plain": [
       "<tf.Tensor: id=608, shape=(3,), dtype=int32, numpy=array([0, 0, 0], dtype=int32)>"
      ]
     },
     "execution_count": 62,
     "metadata": {},
     "output_type": "execute_result"
    }
   ],
   "source": [
    "# create a vector of zeros with the # of columns in a given matrix\n",
    "zeros = tf.zeros(my_mat.shape[1], tf.int32)\n",
    "zeros"
   ]
  },
  {
   "cell_type": "code",
   "execution_count": 63,
   "metadata": {},
   "outputs": [
    {
     "data": {
      "text/plain": [
       "TensorShape([4, 3])"
      ]
     },
     "execution_count": 63,
     "metadata": {},
     "output_type": "execute_result"
    }
   ],
   "source": [
    "# 4 x 3 matrix\n",
    "my_mat.shape"
   ]
  },
  {
   "cell_type": "markdown",
   "metadata": {},
   "source": [
    "## Changing the shape of a `tf.Tensor`"
   ]
  },
  {
   "cell_type": "code",
   "execution_count": 73,
   "metadata": {},
   "outputs": [
    {
     "name": "stdout",
     "output_type": "stream",
     "text": [
      "(3, 4, 5)\n",
      "(6, 10)\n",
      "(3, 20)\n",
      "(4, 3, 5)\n"
     ]
    }
   ],
   "source": [
    "rank_3_tensor = tf.ones([3,4,5])\n",
    "print(rank_3_tensor.shape)\n",
    "\n",
    "mat_a = tf.reshape(rank_3_tensor, [6,10])\n",
    "print(mat.shape)\n",
    "\n",
    "# -1 indicates reshape to calculate the size of dimension\n",
    "mat_b = tf.reshape(mat_a, [3,-1])\n",
    "print(mat_b.shape)\n",
    "\n",
    "mat_c = tf.reshape(rank_3_tensor, [4,3,-1])\n",
    "print(mat_c.shape)"
   ]
  },
  {
   "cell_type": "markdown",
   "metadata": {},
   "source": [
    "## Evaluate tensors"
   ]
  },
  {
   "cell_type": "code",
   "execution_count": 78,
   "metadata": {},
   "outputs": [
    {
     "name": "stdout",
     "output_type": "stream",
     "text": [
      "[1 4 9]\n"
     ]
    }
   ],
   "source": [
    "constant = tf.constant([1, 2, 3])\n",
    "tensor = constant * constant\n",
    "print(tensor.numpy())"
   ]
  },
  {
   "cell_type": "markdown",
   "metadata": {},
   "source": [
    "## Expand dimensions"
   ]
  },
  {
   "cell_type": "code",
   "execution_count": 87,
   "metadata": {},
   "outputs": [
    {
     "name": "stdout",
     "output_type": "stream",
     "text": [
      "mat\n",
      "(4, 3)\n",
      "mat1\n",
      "(1, 4, 3)\n",
      "[[[ 1  2  3]\n",
      "  [ 4  5  6]\n",
      "  [ 7  8  9]\n",
      "  [10 11 12]]]\n",
      "mat2\n",
      "(4, 1, 3)\n",
      "[[[ 1  2  3]]\n",
      "\n",
      " [[ 4  5  6]]\n",
      "\n",
      " [[ 7  8  9]]\n",
      "\n",
      " [[10 11 12]]]\n",
      "mat3\n",
      "(4, 3, 1)\n",
      "[[[ 1]\n",
      "  [ 2]\n",
      "  [ 3]]\n",
      "\n",
      " [[ 4]\n",
      "  [ 5]\n",
      "  [ 6]]\n",
      "\n",
      " [[ 7]\n",
      "  [ 8]\n",
      "  [ 9]]\n",
      "\n",
      " [[10]\n",
      "  [11]\n",
      "  [12]]]\n"
     ]
    }
   ],
   "source": [
    "my_mat = tf.Variable([[1,2,3],[4,5,6],[7,8,9],[10,11,12]], tf.int32)\n",
    "print('mat')\n",
    "print(my_mat.shape)\n",
    "\n",
    "print('mat1')\n",
    "new_mat = tf.expand_dims(my_mat, 0)\n",
    "print(new_mat.shape)\n",
    "print(new_mat.numpy())\n",
    "\n",
    "print('mat2')\n",
    "new_mat2 = tf.expand_dims(my_mat, 1)\n",
    "print(new_mat2.shape)\n",
    "print(new_mat2.numpy())\n",
    "\n",
    "print('mat3')\n",
    "new_mat3 = tf.expand_dims(my_mat, -1)\n",
    "print(new_mat3.shape)\n",
    "print(new_mat3.numpy())"
   ]
  },
  {
   "cell_type": "code",
   "execution_count": null,
   "metadata": {},
   "outputs": [],
   "source": []
  }
 ],
 "metadata": {
  "kernelspec": {
   "display_name": "Python 3",
   "language": "python",
   "name": "python3"
  },
  "language_info": {
   "codemirror_mode": {
    "name": "ipython",
    "version": 3
   },
   "file_extension": ".py",
   "mimetype": "text/x-python",
   "name": "python",
   "nbconvert_exporter": "python",
   "pygments_lexer": "ipython3",
   "version": "3.7.5rc1"
  }
 },
 "nbformat": 4,
 "nbformat_minor": 2
}
