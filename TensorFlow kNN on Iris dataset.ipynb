{
 "cells": [
  {
   "cell_type": "code",
   "execution_count": 1,
   "metadata": {},
   "outputs": [],
   "source": [
    "import matplotlib.pyplot as plt\n",
    "import numpy as np\n",
    "import tensorflow as tf\n",
    "from sklearn import datasets"
   ]
  },
  {
   "cell_type": "code",
   "execution_count": 2,
   "metadata": {},
   "outputs": [],
   "source": [
    "iris = datasets.load_iris()"
   ]
  },
  {
   "cell_type": "code",
   "execution_count": 3,
   "metadata": {},
   "outputs": [],
   "source": [
    "x = iris.data\n",
    "y = iris.target"
   ]
  },
  {
   "cell_type": "code",
   "execution_count": 4,
   "metadata": {},
   "outputs": [],
   "source": [
    "# one hot encoding\n",
    "y = np.eye(len(set(y)))[y]"
   ]
  },
  {
   "cell_type": "code",
   "execution_count": 5,
   "metadata": {},
   "outputs": [],
   "source": [
    "# normalize\n",
    "x = (x - x.min(axis=0)) / x.ptp(axis=0)"
   ]
  },
  {
   "cell_type": "code",
   "execution_count": 25,
   "metadata": {},
   "outputs": [],
   "source": [
    "# split train and test data\n",
    "train_indices = np.random.choice(len(x), round(len(x)*0.8), replace=False)\n",
    "test_indices = np.array(list(set(range(len(x))) - set(train_indices)))\n",
    "\n",
    "x_train = tf.Variable(x[train_indices], tf.float32)\n",
    "y_train = tf.Variable(y[train_indices], tf.int32)\n",
    "x_test = tf.Variable(x[test_indices], tf.float32)\n",
    "y_test = tf.Variable(y[test_indices], tf.int32)"
   ]
  },
  {
   "cell_type": "code",
   "execution_count": 12,
   "metadata": {},
   "outputs": [
    {
     "name": "stdout",
     "output_type": "stream",
     "text": [
      "(120, 4)\n",
      "(120, 3)\n"
     ]
    }
   ],
   "source": [
    "# 4 features, 3 classes, 120 training samples\n",
    "print(x_train.shape)\n",
    "print(y_train.shape)"
   ]
  },
  {
   "cell_type": "code",
   "execution_count": 13,
   "metadata": {},
   "outputs": [],
   "source": [
    "# nearest neighbours\n",
    "k = 9"
   ]
  },
  {
   "cell_type": "code",
   "execution_count": 38,
   "metadata": {},
   "outputs": [
    {
     "data": {
      "text/plain": [
       "TensorShape([120, 4])"
      ]
     },
     "execution_count": 38,
     "metadata": {},
     "output_type": "execute_result"
    }
   ],
   "source": [
    "x_train.shape"
   ]
  },
  {
   "cell_type": "code",
   "execution_count": 67,
   "metadata": {},
   "outputs": [
    {
     "name": "stdout",
     "output_type": "stream",
     "text": [
      "(30, 4)\n",
      "(120, 4)\n"
     ]
    }
   ],
   "source": [
    "print(x_test.shape)\n",
    "print(x_train.shape)"
   ]
  },
  {
   "cell_type": "code",
   "execution_count": 76,
   "metadata": {},
   "outputs": [],
   "source": [
    "def prediction(x_train, y_train, x_test, k):\n",
    "    d0 = tf.expand_dims(x_test, axis=1)\n",
    "    d1 = tf.subtract(x_train, d0)\n",
    "\n",
    "    print(d0.shape)\n",
    "    print(d1.shape)\n",
    "    distance = tf.reduce_sum(tf.abs(d1), axis=2)\n",
    "    \n",
    "    _, top_k_indices = tf.nn.top_k(tf.negative(distance), k=k)\n",
    "    top_k_labels = tf.gather(y_train, top_k_indices)\n",
    "\n",
    "    sum_predictions = tf.reduce_sum(top_k_labels, axis=1)\n",
    "    predictions = tf.argmax(sum_predictions, axis=1)\n",
    "    return predictions"
   ]
  },
  {
   "cell_type": "code",
   "execution_count": 77,
   "metadata": {},
   "outputs": [
    {
     "name": "stdout",
     "output_type": "stream",
     "text": [
      "(30, 1, 4)\n",
      "(30, 120, 4)\n",
      "tf.Tensor(\n",
      "[[[-0.44444444  0.125      -0.6779661  -0.79166667]\n",
      "  [-0.22222222 -0.04166667 -0.23728814 -0.33333333]\n",
      "  [-0.41666667 -0.16666667 -0.38983051 -0.45833333]\n",
      "  ...\n",
      "  [-0.16666667  0.         -0.08474576  0.125     ]\n",
      "  [ 0.11111111  0.         -0.13559322 -0.29166667]\n",
      "  [-0.16666667 -0.08333333 -0.27118644 -0.375     ]]\n",
      "\n",
      " [[ 0.02777778 -0.04166667  0.05084746  0.        ]\n",
      "  [ 0.25       -0.20833333  0.49152542  0.45833333]\n",
      "  [ 0.05555556 -0.33333333  0.33898305  0.33333333]\n",
      "  ...\n",
      "  [ 0.30555556 -0.16666667  0.6440678   0.91666667]\n",
      "  [ 0.58333333 -0.16666667  0.59322034  0.5       ]\n",
      "  [ 0.30555556 -0.25        0.45762712  0.41666667]]\n",
      "\n",
      " [[-0.05555556 -0.125       0.01694915  0.        ]\n",
      "  [ 0.16666667 -0.29166667  0.45762712  0.45833333]\n",
      "  [-0.02777778 -0.41666667  0.30508475  0.33333333]\n",
      "  ...\n",
      "  [ 0.22222222 -0.25        0.61016949  0.91666667]\n",
      "  [ 0.5        -0.25        0.55932203  0.5       ]\n",
      "  [ 0.22222222 -0.33333333  0.42372881  0.41666667]]\n",
      "\n",
      " ...\n",
      "\n",
      " [[-0.22222222  0.125      -0.55932203 -0.75      ]\n",
      "  [ 0.         -0.04166667 -0.11864407 -0.29166667]\n",
      "  [-0.19444444 -0.16666667 -0.27118644 -0.41666667]\n",
      "  ...\n",
      "  [ 0.05555556  0.          0.03389831  0.16666667]\n",
      "  [ 0.33333333  0.         -0.01694915 -0.25      ]\n",
      "  [ 0.05555556 -0.08333333 -0.15254237 -0.33333333]]\n",
      "\n",
      " [[-0.41666667  0.16666667 -0.55932203 -0.66666667]\n",
      "  [-0.19444444  0.         -0.11864407 -0.20833333]\n",
      "  [-0.38888889 -0.125      -0.27118644 -0.33333333]\n",
      "  ...\n",
      "  [-0.13888889  0.04166667  0.03389831  0.25      ]\n",
      "  [ 0.13888889  0.04166667 -0.01694915 -0.16666667]\n",
      "  [-0.13888889 -0.04166667 -0.15254237 -0.25      ]]\n",
      "\n",
      " [[-0.38888889  0.125      -0.54237288 -0.66666667]\n",
      "  [-0.16666667 -0.04166667 -0.10169492 -0.20833333]\n",
      "  [-0.36111111 -0.16666667 -0.25423729 -0.33333333]\n",
      "  ...\n",
      "  [-0.11111111  0.          0.05084746  0.25      ]\n",
      "  [ 0.16666667  0.          0.         -0.16666667]\n",
      "  [-0.11111111 -0.08333333 -0.13559322 -0.25      ]]], shape=(30, 120, 4), dtype=float64)\n",
      "Accuracy =  96.66666666666667 %\n"
     ]
    }
   ],
   "source": [
    "# kNN has no training part\n",
    "# computing the accuracy from test set\n",
    "pred = tf.dtypes.cast(prediction(x_train, y_train, x_test, k), tf.int32)\n",
    "actual = tf.argmax(y_test, axis=1, output_type=tf.int32)\n",
    "\n",
    "correct_count = tf.math.reduce_sum(tf.dtypes.cast(tf.math.equal(pred, actual), tf.int32))\n",
    "accuracy = correct_count / y_test.shape[0] * 100\n",
    "print(\"Accuracy = \",accuracy.numpy(),\"%\")"
   ]
  },
  {
   "cell_type": "code",
   "execution_count": null,
   "metadata": {},
   "outputs": [],
   "source": []
  }
 ],
 "metadata": {
  "kernelspec": {
   "display_name": "Python 3",
   "language": "python",
   "name": "python3"
  },
  "language_info": {
   "codemirror_mode": {
    "name": "ipython",
    "version": 3
   },
   "file_extension": ".py",
   "mimetype": "text/x-python",
   "name": "python",
   "nbconvert_exporter": "python",
   "pygments_lexer": "ipython3",
   "version": "3.7.5"
  }
 },
 "nbformat": 4,
 "nbformat_minor": 2
}
