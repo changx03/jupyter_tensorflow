{
 "cells": [
  {
   "cell_type": "code",
   "execution_count": 49,
   "metadata": {},
   "outputs": [
    {
     "name": "stdout",
     "output_type": "stream",
     "text": [
      "2.1.0\n",
      "Num GPUs Available:  1\n"
     ]
    }
   ],
   "source": [
    "from __future__ import absolute_import, division, print_function, unicode_literals\n",
    "\n",
    "import os\n",
    "import math\n",
    "import numpy as np\n",
    "import matplotlib.pyplot as plt\n",
    "import tensorflow as tf\n",
    "import tensorflow.keras as keras\n",
    "from sklearn import svm\n",
    "from sklearn import metrics\n",
    "import sklearn.neighbors as knn\n",
    "\n",
    "%load_ext autoreload\n",
    "%autoreload 2\n",
    "\n",
    "print(tf.version.VERSION)\n",
    "print(\"Num GPUs Available: \", len(tf.config.list_physical_devices('GPU')))\n",
    "if len(tf.config.list_physical_devices('GPU')) > 0:\n",
    "    gpu = tf.config.experimental.list_physical_devices('GPU')\n",
    "    tf.config.experimental.set_memory_growth(gpu[0], True)"
   ]
  },
  {
   "cell_type": "code",
   "execution_count": 2,
   "metadata": {},
   "outputs": [
    {
     "name": "stdout",
     "output_type": "stream",
     "text": [
      "(60000, 32, 32, 1)\n",
      "(60000,)\n",
      "(10000, 32, 32, 1)\n",
      "(10000,)\n"
     ]
    }
   ],
   "source": [
    "# load MNIST dataset\n",
    "# normalize data to 0~1 range\n",
    "data = keras.datasets.mnist\n",
    "(x_train, y_train), (x_test, y_test) = data.load_data()\n",
    "\n",
    "x_train = np.pad(x_train, ((0,0), (2,2), (2,2)), 'constant', constant_values=0)\n",
    "x_train = x_train / 255.\n",
    "x_train = np.reshape(x_train, (x_train.shape[0], 32, 32, 1))\n",
    "print(x_train.shape)\n",
    "print(y_train.shape)\n",
    "\n",
    "x_test = np.pad(x_test, ((0,0), (2,2), (2,2)), 'constant', constant_values=0)\n",
    "x_test = x_test / 255.\n",
    "x_test = np.reshape(x_test, (x_test.shape[0], 32, 32, 1))\n",
    "x_train = x_train.astype(np.float32)\n",
    "x_test = x_test.astype(np.float32)\n",
    "print(x_test.shape)\n",
    "print(y_test.shape)"
   ]
  },
  {
   "cell_type": "code",
   "execution_count": 3,
   "metadata": {},
   "outputs": [
    {
     "name": "stdout",
     "output_type": "stream",
     "text": [
      "Model: \"lenet5_mlp\"\n",
      "_________________________________________________________________\n",
      "Layer (type)                 Output Shape              Param #   \n",
      "=================================================================\n",
      "hand_writing_digit (InputLay [(None, 32, 32, 1)]       0         \n",
      "_________________________________________________________________\n",
      "conv2d_1 (Conv2D)            (None, 28, 28, 6)         156       \n",
      "_________________________________________________________________\n",
      "pool_1 (AveragePooling2D)    (None, 14, 14, 6)         0         \n",
      "_________________________________________________________________\n",
      "conv2d_2 (Conv2D)            (None, 10, 10, 16)        2416      \n",
      "_________________________________________________________________\n",
      "pool_2 (AveragePooling2D)    (None, 5, 5, 16)          0         \n",
      "_________________________________________________________________\n",
      "flatten (Flatten)            (None, 400)               0         \n",
      "_________________________________________________________________\n",
      "dense_1 (Dense)              (None, 120)               48120     \n",
      "_________________________________________________________________\n",
      "dense_2 (Dense)              (None, 84)                10164     \n",
      "_________________________________________________________________\n",
      "outputs (Dense)              (None, 10)                850       \n",
      "=================================================================\n",
      "Total params: 61,706\n",
      "Trainable params: 61,706\n",
      "Non-trainable params: 0\n",
      "_________________________________________________________________\n"
     ]
    }
   ],
   "source": [
    "# load self-trained LeNet-5 model\n",
    "model_path = 'models/lenet5.h5'\n",
    "model_dir = os.path.dirname(model_path)\n",
    "lenet5_model = keras.models.load_model(model_dir)\n",
    "lenet5_model.summary()"
   ]
  },
  {
   "cell_type": "code",
   "execution_count": 4,
   "metadata": {},
   "outputs": [
    {
     "name": "stdout",
     "output_type": "stream",
     "text": [
      "Model: \"sequential\"\n",
      "_________________________________________________________________\n",
      "Layer (type)                 Output Shape              Param #   \n",
      "=================================================================\n",
      "lenet5_mlp (Model)           (None, 10)                61706     \n",
      "_________________________________________________________________\n",
      "softmax (Softmax)            (None, 10)                0         \n",
      "=================================================================\n",
      "Total params: 61,706\n",
      "Trainable params: 61,706\n",
      "Non-trainable params: 0\n",
      "_________________________________________________________________\n"
     ]
    }
   ],
   "source": [
    "probability_model = tf.keras.Sequential([\n",
    "    lenet5_model,\n",
    "    tf.keras.layers.Softmax()\n",
    "])\n",
    "\n",
    "probability_model.summary()"
   ]
  },
  {
   "cell_type": "code",
   "execution_count": 5,
   "metadata": {},
   "outputs": [],
   "source": [
    "def get_predictions(x):\n",
    "    pred = probability_model(x)\n",
    "    indices = np.argmax(pred, axis=1)\n",
    "    scores = np.max(pred, axis=1)\n",
    "    return np.append([indices], [scores], axis=0).T"
   ]
  },
  {
   "cell_type": "code",
   "execution_count": 6,
   "metadata": {},
   "outputs": [
    {
     "name": "stdout",
     "output_type": "stream",
     "text": [
      "[7 2 1 0 4 1 4 9 5 9]\n",
      "[7. 2. 1. 0. 4. 1. 4. 9. 5. 9.]\n"
     ]
    },
    {
     "data": {
      "text/plain": [
       "array([[7.        , 1.        ],\n",
       "       [2.        , 1.        ],\n",
       "       [1.        , 0.99999821],\n",
       "       [0.        , 0.99999988],\n",
       "       [4.        , 0.99992013],\n",
       "       [1.        , 1.        ],\n",
       "       [4.        , 0.99998486],\n",
       "       [9.        , 1.        ],\n",
       "       [5.        , 0.99455392],\n",
       "       [9.        , 1.        ]])"
      ]
     },
     "execution_count": 6,
     "metadata": {},
     "output_type": "execute_result"
    }
   ],
   "source": [
    "# test prediction\n",
    "pred = get_predictions(x_test[:10])\n",
    "print(y_test[:10])\n",
    "print(pred[:,0])\n",
    "pred"
   ]
  },
  {
   "cell_type": "code",
   "execution_count": 7,
   "metadata": {},
   "outputs": [
    {
     "name": "stdout",
     "output_type": "stream",
     "text": [
      "(10000, 32, 32, 1)\n",
      "(10000,)\n",
      "10000/10000 - 0s - loss: 0.0434 - accuracy: 0.9898\n"
     ]
    }
   ],
   "source": [
    "print(x_test.shape)\n",
    "print(y_test.shape)\n",
    "loss, acc = lenet5_model.evaluate(x_test, y_test, verbose=2)"
   ]
  },
  {
   "cell_type": "code",
   "execution_count": 8,
   "metadata": {},
   "outputs": [
    {
     "name": "stdout",
     "output_type": "stream",
     "text": [
      "Model: \"lenet5_encoder\"\n",
      "_________________________________________________________________\n",
      "Layer (type)                 Output Shape              Param #   \n",
      "=================================================================\n",
      "hand_writing_digit (InputLay [(None, 32, 32, 1)]       0         \n",
      "_________________________________________________________________\n",
      "conv2d_1 (Conv2D)            (None, 28, 28, 6)         156       \n",
      "_________________________________________________________________\n",
      "pool_1 (AveragePooling2D)    (None, 14, 14, 6)         0         \n",
      "_________________________________________________________________\n",
      "conv2d_2 (Conv2D)            (None, 10, 10, 16)        2416      \n",
      "_________________________________________________________________\n",
      "pool_2 (AveragePooling2D)    (None, 5, 5, 16)          0         \n",
      "_________________________________________________________________\n",
      "flatten (Flatten)            (None, 400)               0         \n",
      "_________________________________________________________________\n",
      "dense_1 (Dense)              (None, 120)               48120     \n",
      "=================================================================\n",
      "Total params: 50,692\n",
      "Trainable params: 0\n",
      "Non-trainable params: 50,692\n",
      "_________________________________________________________________\n"
     ]
    }
   ],
   "source": [
    "# split model into encoder (convolutional layers) and dense-layer neural network\n",
    "# create encoder\n",
    "inputs = keras.Input(shape=(32,32,1), name='hand_writing_digit')\n",
    "x = keras.layers.Conv2D(filters=6, kernel_size=(5,5), activation='relu', name='conv2d_1')(inputs)\n",
    "x = keras.layers.AveragePooling2D((2,2), name='pool_1')(x)\n",
    "x = keras.layers.Conv2D(filters=16, kernel_size=(5,5), activation='relu', name='conv2d_2')(x)\n",
    "x = keras.layers.AveragePooling2D((2,2), name='pool_2')(x)\n",
    "x = keras.layers.Flatten(name='flatten')(x)\n",
    "outputs = keras.layers.Dense(120, activation='relu', name='dense_1')(x)\n",
    "\n",
    "encoder = keras.Model(inputs, outputs, name='lenet5_encoder')\n",
    "\n",
    "# load weights and loack the trained weights\n",
    "for encoder_layer, lenet5_layer in zip(encoder.layers, lenet5_model.layers[:7]):\n",
    "    encoder_layer.set_weights(lenet5_layer.get_weights())\n",
    "    encoder_layer.trainable = False\n",
    "\n",
    "# we don't compile encoder, since there's nothing to train the results are in the middel of LeNet-5\n",
    "encoder.summary()"
   ]
  },
  {
   "cell_type": "code",
   "execution_count": 9,
   "metadata": {},
   "outputs": [
    {
     "name": "stdout",
     "output_type": "stream",
     "text": [
      "Passed layer comparision test\n"
     ]
    }
   ],
   "source": [
    "# check weights\n",
    "for encoder_layer, lenet5_layer in zip(encoder.layers, lenet5_model.layers[:7]):\n",
    "    if len(encoder_layer.get_weights()) is not 0:\n",
    "        result = np.array_equal(\n",
    "            encoder_layer.get_weights()[0],\n",
    "            lenet5_layer.get_weights()[0])\n",
    "        if result is not True:\n",
    "            raise Exception('Unmatched weights')\n",
    "\n",
    "print('Passed layer comparision test')"
   ]
  },
  {
   "cell_type": "code",
   "execution_count": 10,
   "metadata": {},
   "outputs": [
    {
     "name": "stdout",
     "output_type": "stream",
     "text": [
      "Model: \"dense_nn\"\n",
      "_________________________________________________________________\n",
      "Layer (type)                 Output Shape              Param #   \n",
      "=================================================================\n",
      "encoded_img (InputLayer)     [(None, 120)]             0         \n",
      "_________________________________________________________________\n",
      "dense_2 (Dense)              (None, 84)                10164     \n",
      "_________________________________________________________________\n",
      "outputs (Dense)              (None, 10)                850       \n",
      "=================================================================\n",
      "Total params: 11,014\n",
      "Trainable params: 0\n",
      "Non-trainable params: 11,014\n",
      "_________________________________________________________________\n"
     ]
    }
   ],
   "source": [
    "# create dense-layer model\n",
    "inputs = keras.Input(shape=(120,), name='encoded_img')\n",
    "x = keras.layers.Dense(84, activation='relu', name='dense_2')(inputs)\n",
    "outputs = keras.layers.Dense(10, name='outputs')(x)\n",
    "\n",
    "dense_nn_model = keras.Model(inputs, outputs, name='dense_nn')\n",
    "\n",
    "# load weights and loack the trained weights\n",
    "for empty_layer, lenet5_layer in zip(dense_nn_model.layers[1:], lenet5_model.layers[-2:]):\n",
    "    empty_layer.set_weights(lenet5_layer.get_weights())\n",
    "    empty_layer.trainable = False\n",
    "\n",
    "loss_fn = keras.losses.SparseCategoricalCrossentropy(from_logits=True)\n",
    "\n",
    "dense_nn_model.compile(\n",
    "    optimizer='adam',\n",
    "    loss=loss_fn,\n",
    "    metrics=['accuracy'])\n",
    "\n",
    "dense_nn_model.summary()"
   ]
  },
  {
   "cell_type": "code",
   "execution_count": 11,
   "metadata": {},
   "outputs": [
    {
     "name": "stdout",
     "output_type": "stream",
     "text": [
      "Passed layer comparision test\n"
     ]
    }
   ],
   "source": [
    "# check weights\n",
    "for clone_layer, lenet5_layer in zip(dense_nn_model.layers[1:], lenet5_model.layers[-2:]):\n",
    "    if len(encoder_layer.get_weights()) is not 0:\n",
    "        result = np.array_equal(\n",
    "            clone_layer.get_weights()[0],\n",
    "            lenet5_layer.get_weights()[0])\n",
    "        if result is not True:\n",
    "            raise Exception('Unmatched weights')\n",
    "\n",
    "print('Passed layer comparision test')"
   ]
  },
  {
   "cell_type": "code",
   "execution_count": 12,
   "metadata": {},
   "outputs": [
    {
     "name": "stdout",
     "output_type": "stream",
     "text": [
      "10000/10000 - 0s - loss: 0.0434 - accuracy: 0.9898\n"
     ]
    }
   ],
   "source": [
    "# use the coder and dense_nn models together\n",
    "lenet5_test_acc = 0.9898\n",
    "\n",
    "encoded_test = encoder.predict(x_test)\n",
    "loss, acc = dense_nn_model.evaluate(encoded_test, y_test, verbose=2)\n",
    "\n",
    "if not math.isclose(lenet5_test_acc, acc, rel_tol=1e-6):\n",
    "    raise Exception('Unmatched accuracy')"
   ]
  },
  {
   "cell_type": "markdown",
   "metadata": {},
   "source": [
    "## Create Adversarial examples using FGSM\n",
    "https://www.tensorflow.org/tutorials/generative/adversarial_fgsm"
   ]
  },
  {
   "cell_type": "code",
   "execution_count": 13,
   "metadata": {},
   "outputs": [],
   "source": [
    "# use probability loss function instead of scalar\n",
    "loss_fn_adv = keras.losses.CategoricalCrossentropy()\n",
    "\n",
    "def create_adversarial_perturbation(input_img, input_probs):\n",
    "    if input_img.shape != (32, 32, 1):\n",
    "        raise Exception('Image size does not match', input_img.shape)\n",
    "    if input_probs.shape != (1, 10):\n",
    "        raise Exception('Probabilities should be a row vector', input_probs.shape)\n",
    "    \n",
    "    x = tf.convert_to_tensor([input_img])\n",
    "    with tf.GradientTape() as tape:\n",
    "        tape.watch(x)\n",
    "        pred = lenet5_model(x)\n",
    "        loss = loss_fn_adv(input_probs, pred)\n",
    "    \n",
    "    gradient = tape.gradient(loss, x)\n",
    "    signed_grad = tf.sign(gradient)\n",
    "    return signed_grad"
   ]
  },
  {
   "cell_type": "code",
   "execution_count": 14,
   "metadata": {},
   "outputs": [
    {
     "name": "stdout",
     "output_type": "stream",
     "text": [
      "2311\n",
      "Ture label: 2\n",
      "Prediction: [[2. 1.]]\n"
     ]
    },
    {
     "data": {
      "text/plain": [
       "<matplotlib.image.AxesImage at 0x7f13416b29e8>"
      ]
     },
     "execution_count": 14,
     "metadata": {},
     "output_type": "execute_result"
    },
    {
     "data": {
      "image/png": "[encoded data removed]",
      "text/plain": [
       "<Figure size 432x288 with 1 Axes>"
      ]
     },
     "metadata": {
      "needs_background": "light"
     },
     "output_type": "display_data"
    }
   ],
   "source": [
    "# idx = np.random.randint(0, len(y_test))\n",
    "idx = 2311\n",
    "print(idx)\n",
    "print('Ture label:', y_test[idx])\n",
    "pred = get_predictions(np.array([x_test[idx]]))\n",
    "print('Prediction:', pred)\n",
    "plt.figure()\n",
    "plt.imshow(x_test[idx,:,:,0], cmap='Greys', vmin=0, vmax=1.0)"
   ]
  },
  {
   "cell_type": "code",
   "execution_count": 15,
   "metadata": {},
   "outputs": [],
   "source": [
    "img = x_test[idx]\n",
    "# use prediction from the model instead of true label\n",
    "pred = lenet5_model(tf.convert_to_tensor([img]))\n",
    "perturbation = create_adversarial_perturbation(img, pred)"
   ]
  },
  {
   "cell_type": "code",
   "execution_count": 16,
   "metadata": {},
   "outputs": [
    {
     "data": {
      "text/plain": [
       "<matplotlib.image.AxesImage at 0x7f1341097588>"
      ]
     },
     "execution_count": 16,
     "metadata": {},
     "output_type": "execute_result"
    },
    {
     "data": {
      "image/png": "[encoded data removed]",
      "text/plain": [
       "<Figure size 432x288 with 1 Axes>"
      ]
     },
     "metadata": {
      "needs_background": "light"
     },
     "output_type": "display_data"
    }
   ],
   "source": [
    "plt.figure()\n",
    "plt.imshow(perturbation[0,:,:,0], cmap='Greys', vmin=-1., vmax=1.)"
   ]
  },
  {
   "cell_type": "code",
   "execution_count": 17,
   "metadata": {},
   "outputs": [
    {
     "data": {
      "text/plain": [
       "<matplotlib.image.AxesImage at 0x7f1340ff7b38>"
      ]
     },
     "execution_count": 17,
     "metadata": {},
     "output_type": "execute_result"
    },
    {
     "data": {
      "image/png": "[encoded data removed]",
      "text/plain": [
       "<Figure size 432x288 with 1 Axes>"
      ]
     },
     "metadata": {
      "needs_background": "light"
     },
     "output_type": "display_data"
    }
   ],
   "source": [
    "epsilon = 0.15\n",
    "adv_x = img + epsilon * perturbation\n",
    "# limited range to 0 and 1\n",
    "adv_x = tf.clip_by_value(adv_x, 0, 1)\n",
    "\n",
    "plt.figure()\n",
    "plt.imshow(adv_x[0,:,:,0], cmap='Greys')"
   ]
  },
  {
   "cell_type": "code",
   "execution_count": 18,
   "metadata": {},
   "outputs": [
    {
     "name": "stdout",
     "output_type": "stream",
     "text": [
      "9.294967e-15 5.663049e-16 1.0 2.105762e-17 3.899199e-15 3.185205e-21 1.5086514e-16 5.939667e-10 2.369382e-22 1.2140292e-19\n",
      "[[2. 1.]]\n",
      "9.797733e-16 3.0924505e-09 2.6389846e-06 1.091792e-09 2.1987772e-09 7.346489e-14 9.599356e-17 0.9999974 4.477096e-16 9.385238e-09\n",
      "[[7.         0.99999738]]\n",
      "Successfully found adversarial example\n"
     ]
    }
   ],
   "source": [
    "probs = probability_model(tf.convert_to_tensor([img]))\n",
    "pred = get_predictions(tf.convert_to_tensor([img]))\n",
    "print(*probs.numpy()[0])\n",
    "print(pred)\n",
    "\n",
    "adv_prbos = probability_model(adv_x)\n",
    "adv_pred = get_predictions(tf.convert_to_tensor(adv_x))\n",
    "print(*adv_prbos.numpy()[0])\n",
    "print(adv_pred)\n",
    "\n",
    "if pred[0][0] != adv_pred[0][0]:\n",
    "    print('Successfully found adversarial example')\n",
    "else:\n",
    "    print(f'Failed to find adversarial example from index {idx}')"
   ]
  },
  {
   "cell_type": "code",
   "execution_count": 19,
   "metadata": {},
   "outputs": [],
   "source": [
    "# for the progress bar\n",
    "from tqdm import tqdm"
   ]
  },
  {
   "cell_type": "code",
   "execution_count": 20,
   "metadata": {},
   "outputs": [
    {
     "name": "stdout",
     "output_type": "stream",
     "text": [
      "/home/lukec/workspace/jupyter_tensorflow/data\n"
     ]
    }
   ],
   "source": [
    "# try to load saved file\n",
    "folder_path = os.getcwd()\n",
    "adv_path = folder_path + '/data/saved_adv.npy'\n",
    "adv_dir = os.path.dirname(adv_path)\n",
    "print(adv_dir)\n",
    "if not os.path.exists(adv_dir):\n",
    "    os.mkdir(adv_dir)"
   ]
  },
  {
   "cell_type": "code",
   "execution_count": 21,
   "metadata": {},
   "outputs": [
    {
     "data": {
      "text/plain": [
       "(10000, 32, 32, 1)"
      ]
     },
     "execution_count": 21,
     "metadata": {},
     "output_type": "execute_result"
    }
   ],
   "source": [
    "# creating adversarial examples on entire test set\n",
    "count = len(y_test)\n",
    "adv_test = np.empty((0, 32, 32, 1), dtype=np.float32)\n",
    "pred_test = lenet5_model(tf.convert_to_tensor(x_test))\n",
    "epsilon = 0.15\n",
    "\n",
    "if not os.path.isfile(adv_path):\n",
    "    with tqdm(total=count) as pbar:\n",
    "        for i in range(count):\n",
    "            pred_og = tf.convert_to_tensor([pred_test[i]])\n",
    "            perturbation = create_adversarial_perturbation(x_test[i], pred_og)\n",
    "            perturbation = perturbation.numpy()[0]\n",
    "            adv = x_test[i] + epsilon * perturbation\n",
    "\n",
    "            # apply clipping\n",
    "            # adv = tf.clip_by_value(adv, 0, 1)\n",
    "            adv_test = np.append(adv_test, [adv], axis=0)\n",
    "            if i % 10 == 0:\n",
    "                pbar.update(10)\n",
    "    np.save(adv_path, adv_test)\n",
    "else:\n",
    "    adv_test = np.load(adv_path, mmap_mode='r')\n",
    "\n",
    "adv_test.shape\n",
    "# loss, acc = lenet5_model.evaluate(adv_test[:50], y_test[:50], verbose=2)"
   ]
  },
  {
   "cell_type": "code",
   "execution_count": 24,
   "metadata": {},
   "outputs": [
    {
     "name": "stdout",
     "output_type": "stream",
     "text": [
      "10000/10000 - 0s - loss: 1.7135 - accuracy: 0.8017\n"
     ]
    }
   ],
   "source": [
    "loss, acc = lenet5_model.evaluate(adv_test, y_test[:count], verbose=2)"
   ]
  },
  {
   "cell_type": "code",
   "execution_count": 47,
   "metadata": {},
   "outputs": [],
   "source": [
    "import utils\n",
    "import applicability_domain as ad"
   ]
  },
  {
   "cell_type": "code",
   "execution_count": 26,
   "metadata": {},
   "outputs": [
    {
     "data": {
      "text/plain": [
       "array([[7.        , 0.99999869],\n",
       "       [2.        , 0.99999702],\n",
       "       [1.        , 0.99896634],\n",
       "       [0.        , 1.        ],\n",
       "       [9.        , 0.9999913 ]])"
      ]
     },
     "execution_count": 26,
     "metadata": {},
     "output_type": "execute_result"
    }
   ],
   "source": [
    "# this variable combines the predicted label and its probability\n",
    "adv_pred_label = get_predictions(adv_test)\n",
    "adv_pred_label[:5]"
   ]
  },
  {
   "cell_type": "code",
   "execution_count": 27,
   "metadata": {},
   "outputs": [
    {
     "name": "stdout",
     "output_type": "stream",
     "text": [
      "\n",
      "---------- Applicability ---------------\n",
      "Note: Instead of block it, we use the bounding box to clip and rescale the inputs.\n",
      "(10000, 32, 32, 1)\n"
     ]
    }
   ],
   "source": [
    "# Stage 1 - Applicability\n",
    "print('\\n---------- Applicability ---------------')\n",
    "print('Note: Instead of block it, we use the bounding box to clip and rescale the inputs.')\n",
    "# apply clipping\n",
    "ad_test = tf.clip_by_value(adv_test, 0., 1.)\n",
    "\n",
    "# apply 8-bit rescaling\n",
    "ad_test = tf.round(ad_test * 255.) / 255.\n",
    "print(ad_test.shape)"
   ]
  },
  {
   "cell_type": "code",
   "execution_count": 28,
   "metadata": {},
   "outputs": [
    {
     "name": "stdout",
     "output_type": "stream",
     "text": [
      "\n",
      "---------- Reliability -----------------\n",
      "Parameters: k = 12, zeta = 0.4\n"
     ]
    }
   ],
   "source": [
    "# Stage 2 - Reliability\n",
    "# parameters for Reliability Stage\n",
    "k = 12\n",
    "zeta = 0.4 \n",
    "\n",
    "print('\\n---------- Reliability -----------------')\n",
    "print(f'Parameters: k = {k}, zeta = {zeta}')"
   ]
  },
  {
   "cell_type": "code",
   "execution_count": 29,
   "metadata": {},
   "outputs": [
    {
     "name": "stderr",
     "output_type": "stream",
     "text": [
      "100%|██████████| 10/10 [00:12<00:00,  1.24s/it]\n"
     ]
    }
   ],
   "source": [
    "# the clean train set after encoding\n",
    "encoded_train = encoder.predict(x_train)\n",
    "encoded_ad = encoder.predict(ad_test)\n",
    "\n",
    "knn_models = []\n",
    "# mu, sd, and are scalar for each label\n",
    "means = np.empty((10), dtype=np.float32)\n",
    "std_devs = np.empty((10), dtype=np.float32)\n",
    "\n",
    "num_labels = 10\n",
    "with tqdm(total=num_labels) as pbar:\n",
    "    for i in range(num_labels):\n",
    "        indices = np.where(y_train == i)\n",
    "        # creating kNN models for each class\n",
    "        knn_model = utils.unimodal_knn(encoded_train[indices], k)\n",
    "        knn_models.append(knn_model)\n",
    "\n",
    "        # computing mean, standard deviation and threshold\n",
    "        mu, sd = utils.get_distance_info(\n",
    "            knn_models[i], encoded_train[indices], k, seen_in_train_set=True)\n",
    "        means[i] = mu\n",
    "        std_devs[i] = sd\n",
    "        \n",
    "        pbar.update(1)"
   ]
  },
  {
   "cell_type": "code",
   "execution_count": 30,
   "metadata": {},
   "outputs": [],
   "source": [
    "# for easier to adjust zeta\n",
    "# threshold is a scalar for each label\n",
    "thresholds = np.empty((10), dtype=np.float32)\n",
    "\n",
    "for i in range(10):\n",
    "    thresholds[i] = ad.get_reliability_threshold(mu, sd, zeta)"
   ]
  },
  {
   "cell_type": "code",
   "execution_count": 31,
   "metadata": {},
   "outputs": [
    {
     "name": "stdout",
     "output_type": "stream",
     "text": [
      "(3114, 120)\n",
      "(3114,)\n"
     ]
    }
   ],
   "source": [
    "encoded_passed_s2, indices_passed_s2 = ad.check_reliability(\n",
    "    encoded_ad,\n",
    "    predictions=adv_pred_label[:,0],\n",
    "    models=knn_models,\n",
    "    dist_thresholds=thresholds,\n",
    "    classes=list(range(10)),\n",
    "    verbose=0\n",
    ")\n",
    "print(encoded_passed_s2.shape)\n",
    "print(indices_passed_s2.shape)"
   ]
  },
  {
   "cell_type": "code",
   "execution_count": 98,
   "metadata": {},
   "outputs": [
    {
     "name": "stdout",
     "output_type": "stream",
     "text": [
      "3114/3114 - 0s - loss: 0.3306 - accuracy: 0.9663\n",
      "After reliability check:\n",
      "Blocked 6886 samples\n",
      "Pass rate = 31.1400%\n",
      "\n",
      "# of missclassified = 105\n",
      "\n",
      "Confusion matrix\n",
      "Actual classes\n",
      "    0   1   2   3   4   5   6   7   8   9\n",
      "[[495   0   0   0   0   0   0   0   0   0]\n",
      " [  0 848   1   0   0   0   2   1   4   0]\n",
      " [  0   0  15   0   0   0   0   1   1   0]\n",
      " [  0   0   0 104   0   1   0   0   1   0]\n",
      " [  0   0   0   0 176   0   2   0   0  45]\n",
      " [  0   0   0   0   0  19   1   0   0   0]\n",
      " [  2   0   0   0   0   0 407   0   0   0]\n",
      " [  0   0   0   0   0   0   0 163   0  19]\n",
      " [  0   1   0   1   0   0   0   0 372   1]\n",
      " [  0   0   0   0  15   0   0   4   2 410]]\n"
     ]
    }
   ],
   "source": [
    "# Stage 2 result\n",
    "loss, acc = lenet5_model.evaluate(\n",
    "    ad_test.numpy()[indices_passed_s2], \n",
    "    y_test[indices_passed_s2], \n",
    "    verbose=2)\n",
    "print('After reliability check:')\n",
    "print(f'Blocked {len(adv_test) - len(indices_passed_s2)} samples')\n",
    "pass_rate = utils.get_rate(encoded_passed_s2, adv_test)\n",
    "print(f'Pass rate = {pass_rate * 100:.4f}%')\n",
    "\n",
    "pred_passed = get_predictions(ad_test.numpy()[indices_passed_s2])\n",
    "conf_mat = metrics.confusion_matrix(y_test[indices_passed_s2], pred_passed[:,0])\n",
    "count_mis = len(np.where(np.not_equal(y_test[indices_passed_s2], pred_passed[:,0]))[0])\n",
    "print(f'\\n# of missclassified = {count_mis}')\n",
    "\n",
    "print('\\nConfusion matrix')\n",
    "print('Actual classes')\n",
    "print(' ', *list(range(10)), sep='   ')\n",
    "print(conf_mat)"
   ]
  },
  {
   "cell_type": "code",
   "execution_count": 73,
   "metadata": {},
   "outputs": [
    {
     "name": "stdout",
     "output_type": "stream",
     "text": [
      "\n",
      "---------- Decidability ----------------\n",
      "Parameters: k = 32\n"
     ]
    }
   ],
   "source": [
    "# Stage 3 - Decidability\n",
    "# parameters for Decidability Stage\n",
    "k2 = 32\n",
    "\n",
    "print('\\n---------- Decidability ----------------')\n",
    "print(f'Parameters: k = {k2}')"
   ]
  },
  {
   "cell_type": "code",
   "execution_count": 74,
   "metadata": {},
   "outputs": [
    {
     "data": {
      "text/plain": [
       "KNeighborsClassifier(algorithm='auto', leaf_size=30, metric='minkowski',\n",
       "                     metric_params=None, n_jobs=-1, n_neighbors=32, p=2,\n",
       "                     weights='distance')"
      ]
     },
     "execution_count": 74,
     "metadata": {},
     "output_type": "execute_result"
    }
   ],
   "source": [
    "# the knnn model with complete train set\n",
    "comp_knn_model = knn.KNeighborsClassifier(\n",
    "    n_neighbors=k2,\n",
    "    n_jobs=-1,\n",
    "    weights='distance'\n",
    ")\n",
    "comp_knn_model.fit(encoded_train, y_train)"
   ]
  },
  {
   "cell_type": "code",
   "execution_count": 75,
   "metadata": {},
   "outputs": [
    {
     "name": "stdout",
     "output_type": "stream",
     "text": [
      "Accuracy on test set  = 99.1700%\n"
     ]
    }
   ],
   "source": [
    "pred_test = comp_knn_model.predict(encoded_test)\n",
    "score_test = metrics.accuracy_score(y_test, pred_test)\n",
    "print(f'Accuracy of KNN on clean test set  = {score_test*100:.4f}%')"
   ]
  },
  {
   "cell_type": "code",
   "execution_count": 69,
   "metadata": {},
   "outputs": [
    {
     "name": "stdout",
     "output_type": "stream",
     "text": [
      "sample passed in: (3114, 2)\n",
      "(3109, 120)\n",
      "(3109,)\n"
     ]
    }
   ],
   "source": [
    "pred_passed = get_predictions(ad_test.numpy()[indices_passed_s2])\n",
    "print('sample passed in:', pred_passed.shape)\n",
    "\n",
    "encoded_passed_s3, indices_passed_s3 = ad.check_decidability(\n",
    "    encoded_passed_s2,\n",
    "    pred_passed[:,0],\n",
    "    comp_knn_model\n",
    ")\n",
    "indices_passed_s3 = indices_passed_s3[0]\n",
    "\n",
    "print(encoded_passed_s3.shape)\n",
    "print(indices_passed_s3.shape)"
   ]
  },
  {
   "cell_type": "code",
   "execution_count": 72,
   "metadata": {},
   "outputs": [
    {
     "name": "stdout",
     "output_type": "stream",
     "text": [
      "3109/3109 - 0s - loss: 0.9638 - accuracy: 0.8430\n",
      "After reliability check:\n",
      "Blocked 5 samples\n",
      "Pass rate = 31.0900%\n",
      "\n",
      "# of samples after AD = 3109\n",
      "Total blocked samples = 6891\n"
     ]
    }
   ],
   "source": [
    "# Stage 3 result\n",
    "loss, acc = lenet5_model.evaluate(\n",
    "    ad_test.numpy()[indices_passed_s3], \n",
    "    y_test[indices_passed_s3], \n",
    "    verbose=2)\n",
    "print('After reliability check:')\n",
    "print(f'Blocked {len(indices_passed_s2) - len(indices_passed_s3)} samples')\n",
    "pass_rate = utils.get_rate(encoded_passed_s3, adv_test)\n",
    "print(f'Pass rate = {pass_rate * 100:.4f}%')\n",
    "\n",
    "print(f'\\n# of samples after AD = {len(indices_passed_s3)}')\n",
    "print(f'Total blocked samples = {len(y_test) - len(indices_passed_s3)}')"
   ]
  },
  {
   "cell_type": "code",
   "execution_count": 97,
   "metadata": {},
   "outputs": [
    {
     "name": "stdout",
     "output_type": "stream",
     "text": [
      "# of missclassified = 488\n",
      "\n",
      "Confusion matrix\n",
      "Actual classes\n",
      "    0   1   2   3   4   5   6   7   8   9\n",
      "[[268   0   2   0   1   1   4   0   1   4]\n",
      " [  0 339   0   6   0   0   3   3   1   0]\n",
      " [  4   2 297   1   1   0   1  17   0   0]\n",
      " [  0   0   3 295   0  25   0   3   1   2]\n",
      " [  0   0   1   0 206   0   3   0   0 117]\n",
      " [  0   0   0  18   0 240   8   0   4  22]\n",
      " [  5   0   1   0   8  23 246   0   0   0]\n",
      " [  0   0   4   2   3   0   0 226   0  87]\n",
      " [  1   1   6  10   2  12   2   1 257   4]\n",
      " [  0   0   0   5  44   3   0   4   1 247]]\n"
     ]
    }
   ],
   "source": [
    "pred_passed = get_predictions(ad_test.numpy()[indices_passed_s3])\n",
    "conf_mat = metrics.confusion_matrix(y_test[indices_passed_s3], pred_passed[:,0])\n",
    "count_mis = len(np.where(np.not_equal(y_test[indices_passed_s3], pred_passed[:,0]))[0])\n",
    "print(f'# of missclassified = {count_mis}')\n",
    "\n",
    "print('\\nConfusion matrix')\n",
    "print('Actual classes')\n",
    "print(' ', *list(range(10)), sep='   ')\n",
    "print(conf_mat)"
   ]
  }
 ],
 "metadata": {
  "kernelspec": {
   "display_name": "Python 3",
   "language": "python",
   "name": "python3"
  },
  "language_info": {
   "codemirror_mode": {
    "name": "ipython",
    "version": 3
   },
   "file_extension": ".py",
   "mimetype": "text/x-python",
   "name": "python",
   "nbconvert_exporter": "python",
   "pygments_lexer": "ipython3",
   "version": "3.6.9"
  }
 },
 "nbformat": 4,
 "nbformat_minor": 4
}
